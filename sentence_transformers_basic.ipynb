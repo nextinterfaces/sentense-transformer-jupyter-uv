{
 "cells": [
  {
   "cell_type": "markdown",
   "metadata": {},
   "source": [
    "# Sentence Transformers - Basic Example 🚀\n",
    "\n",
    "A simple tutorial to get started with sentence transformers in Jupyter Lab.\n",
    "\n",
    "## What we'll do:\n",
    "1. Install and import libraries\n",
    "2. Load a pre-trained model\n",
    "3. Encode sentences into embeddings\n",
    "4. Calculate similarity between sentences\n",
    "5. See the results!\n"
   ]
  },
  {
   "cell_type": "markdown",
   "metadata": {},
   "source": [
    "## 1. Setup and Imports\n"
   ]
  },
  {
   "cell_type": "code",
   "execution_count": 1,
   "metadata": {},
   "outputs": [
    {
     "name": "stdout",
     "output_type": "stream",
     "text": [
      "✅ Libraries imported successfully!\n"
     ]
    }
   ],
   "source": [
    "# Install sentence-transformers if not already installed\n",
    "# !pip install sentence-transformers\n",
    "\n",
    "from sentence_transformers import SentenceTransformer, util\n",
    "import numpy as np\n",
    "\n",
    "print(\"✅ Libraries imported successfully!\")\n"
   ]
  },
  {
   "cell_type": "markdown",
   "metadata": {},
   "source": []
  },
  {
   "cell_type": "markdown",
   "metadata": {},
   "source": [
    "## 2. Load Pre-trained Model\n"
   ]
  },
  {
   "cell_type": "code",
   "execution_count": 2,
   "metadata": {},
   "outputs": [
    {
     "name": "stdout",
     "output_type": "stream",
     "text": [
      "✅ Model loaded! Embedding dimension: 384\n"
     ]
    }
   ],
   "source": [
    "# Load a small, fast model\n",
    "model = SentenceTransformer('all-MiniLM-L6-v2')\n",
    "print(f\"✅ Model loaded! Embedding dimension: {model.get_sentence_embedding_dimension()}\")\n"
   ]
  },
  {
   "cell_type": "markdown",
   "metadata": {},
   "source": [
    "## 3. Basic Example - Encode Sentences\n"
   ]
  },
  {
   "cell_type": "code",
   "execution_count": 3,
   "metadata": {},
   "outputs": [
    {
     "name": "stdout",
     "output_type": "stream",
     "text": [
      "📊 Encoded 5 sentences\n",
      "🔢 Each sentence becomes a vector of 384 numbers\n",
      "\n",
      "📝 Example - First sentence: 'I love programming'\n",
      "🎯 First 5 numbers of its embedding: [-0.03617874 -0.01277374  0.00300631 -0.01690345  0.00948433]\n"
     ]
    }
   ],
   "source": [
    "# Example sentences\n",
    "sentences = [\n",
    "    \"I love programming\",\n",
    "    \"I enjoy coding\", \n",
    "    \"The weather is nice today\",\n",
    "    \"It's a beautiful sunny day\",\n",
    "    \"Python is great for machine learning\"\n",
    "]\n",
    "\n",
    "# Convert sentences to embeddings (vectors)\n",
    "embeddings = model.encode(sentences)\n",
    "\n",
    "print(f\"📊 Encoded {len(sentences)} sentences\")\n",
    "print(f\"🔢 Each sentence becomes a vector of {len(embeddings[0])} numbers\")\n",
    "print(f\"\\n📝 Example - First sentence: '{sentences[0]}'\")\n",
    "print(f\"🎯 First 5 numbers of its embedding: {embeddings[0][:5]}\")\n"
   ]
  },
  {
   "cell_type": "markdown",
   "metadata": {},
   "source": [
    "## 4. Calculate Sentence Similarities\n"
   ]
  },
  {
   "cell_type": "code",
   "execution_count": 4,
   "metadata": {},
   "outputs": [
    {
     "name": "stdout",
     "output_type": "stream",
     "text": [
      "🔍 Similarity Results (1.0 = identical, 0.0 = completely different):\n",
      "\n",
      "📊 Similarity: 0.817\n",
      "   📝 'I love programming'\n",
      "   📝 'I enjoy coding'\n",
      "\n",
      "📊 Similarity: 0.109\n",
      "   📝 'I love programming'\n",
      "   📝 'The weather is nice today'\n",
      "\n",
      "📊 Similarity: 0.206\n",
      "   📝 'I love programming'\n",
      "   📝 'It's a beautiful sunny day'\n",
      "\n",
      "📊 Similarity: 0.417\n",
      "   📝 'I love programming'\n",
      "   📝 'Python is great for machine learning'\n",
      "\n",
      "📊 Similarity: 0.110\n",
      "   📝 'I enjoy coding'\n",
      "   📝 'The weather is nice today'\n",
      "\n",
      "📊 Similarity: 0.168\n",
      "   📝 'I enjoy coding'\n",
      "   📝 'It's a beautiful sunny day'\n",
      "\n",
      "📊 Similarity: 0.295\n",
      "   📝 'I enjoy coding'\n",
      "   📝 'Python is great for machine learning'\n",
      "\n",
      "📊 Similarity: 0.670\n",
      "   📝 'The weather is nice today'\n",
      "   📝 'It's a beautiful sunny day'\n",
      "\n",
      "📊 Similarity: 0.072\n",
      "   📝 'The weather is nice today'\n",
      "   📝 'Python is great for machine learning'\n",
      "\n",
      "📊 Similarity: 0.079\n",
      "   📝 'It's a beautiful sunny day'\n",
      "   📝 'Python is great for machine learning'\n",
      "\n"
     ]
    }
   ],
   "source": [
    "# Calculate similarity between all sentences\n",
    "similarity_matrix = util.cos_sim(embeddings, embeddings)\n",
    "\n",
    "print(\"🔍 Similarity Results (1.0 = identical, 0.0 = completely different):\\n\")\n",
    "\n",
    "# Show similarities between sentence pairs\n",
    "for i in range(len(sentences)):\n",
    "    for j in range(i+1, len(sentences)):\n",
    "        similarity = similarity_matrix[i][j].item()\n",
    "        print(f\"📊 Similarity: {similarity:.3f}\")\n",
    "        print(f\"   📝 '{sentences[i]}'\")\n",
    "        print(f\"   📝 '{sentences[j]}'\\n\")\n"
   ]
  },
  {
   "cell_type": "markdown",
   "metadata": {},
   "source": [
    "## 5. Try Your Own Example!\n"
   ]
  },
  {
   "cell_type": "code",
   "execution_count": 5,
   "metadata": {},
   "outputs": [
    {
     "name": "stdout",
     "output_type": "stream",
     "text": [
      "🎯 Comparing your sentences:\n",
      "📝 Sentence 1: 'I like artificial intelligence'\n",
      "📝 Sentence 2: 'Machine learning is fascinating'\n",
      "📊 Similarity: 0.546\n",
      "✅ These sentences are quite similar!\n"
     ]
    }
   ],
   "source": [
    "# Try comparing your own sentences! Change these:\n",
    "sentence1 = \"I like artificial intelligence\"\n",
    "sentence2 = \"Machine learning is fascinating\"\n",
    "\n",
    "# Encode both sentences\n",
    "emb1 = model.encode([sentence1])\n",
    "emb2 = model.encode([sentence2])\n",
    "\n",
    "# Calculate similarity\n",
    "similarity = util.cos_sim(emb1, emb2)[0][0].item()\n",
    "\n",
    "print(f\"🎯 Comparing your sentences:\")\n",
    "print(f\"📝 Sentence 1: '{sentence1}'\")\n",
    "print(f\"📝 Sentence 2: '{sentence2}'\")\n",
    "print(f\"📊 Similarity: {similarity:.3f}\")\n",
    "\n",
    "# Interpretation\n",
    "if similarity > 0.5:\n",
    "    print(\"✅ These sentences are quite similar!\")\n",
    "elif similarity > 0.3:\n",
    "    print(\"🤔 These sentences have some similarity\")\n",
    "else:\n",
    "    print(\"❌ These sentences are quite different\")\n"
   ]
  },
  {
   "cell_type": "markdown",
   "metadata": {},
   "source": [
    "## 🎉 Congratulations!\n",
    "\n",
    "You've successfully:\n",
    "- ✅ Loaded a sentence transformer model\n",
    "- ✅ Converted sentences into numerical embeddings  \n",
    "- ✅ Calculated semantic similarity between sentences\n",
    "- ✅ Seen how the model understands meaning, not just words!\n",
    "\n",
    "**Next steps you could try:**\n",
    "- Change the sentences in the examples above\n",
    "- Try different languages\n",
    "- Use different models like `all-mpnet-base-v2` for higher quality\n",
    "- Build a simple search system\n"
   ]
  },
  {
   "cell_type": "code",
   "execution_count": null,
   "metadata": {},
   "outputs": [],
   "source": []
  }
 ],
 "metadata": {
  "kernelspec": {
   "display_name": "Python 3 (ipykernel)",
   "language": "python",
   "name": "python3"
  },
  "language_info": {
   "codemirror_mode": {
    "name": "ipython",
    "version": 3
   },
   "file_extension": ".py",
   "mimetype": "text/x-python",
   "name": "python",
   "nbconvert_exporter": "python",
   "pygments_lexer": "ipython3",
   "version": "3.13.7"
  }
 },
 "nbformat": 4,
 "nbformat_minor": 4
}
